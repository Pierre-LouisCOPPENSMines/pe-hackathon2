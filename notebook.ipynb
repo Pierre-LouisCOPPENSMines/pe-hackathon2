{
 "cells": [
  {
   "cell_type": "markdown",
   "metadata": {},
   "source": [
    "# Notebook du Hackaton 2 - 31/01/25\n",
    "\n",
    "_Quelques précisions sur le notebook et le projet_"
   ]
  },
  {
   "cell_type": "markdown",
   "metadata": {},
   "source": [
    "## Importation des fichiers"
   ]
  },
  {
   "cell_type": "code",
   "execution_count": 1,
   "metadata": {},
   "outputs": [
    {
     "name": "stdout",
     "output_type": "stream",
     "text": [
      "      coord_x      coord_y  capacity  init  consumption\n",
      "0  602.282739  4380.094124         7     4        0.437\n",
      "1  159.752632  4746.974091        41    16        4.118\n",
      "2  701.043500  4828.455795        23     0        1.915\n",
      "3  262.492452  4535.118069         2     1        0.002\n",
      "4  625.516287  4365.298309        17    17        3.982\n",
      "       coord_y     coord_x  capacity  init      refill\n",
      "0  4788.278952  200.852387       234     6  449.994845\n",
      "1  4787.237103  243.897782       165    16  661.523349\n",
      "2  4827.143788  182.719643       168    14  620.117703\n",
      "3  4837.312176  328.911426        81    20  437.273563\n",
      "4  4352.476945  604.834430       135    14  148.765009\n"
     ]
    }
   ],
   "source": [
    "import pandas as pd\n",
    "\n",
    "# Lire les fichiers clients et plants\n",
    "clients_df = pd.read_csv('clients.csv')\n",
    "plants_df = pd.read_csv('plants.csv')\n",
    "\n",
    "print(clients_df.head())\n",
    "print(plants_df.head())"
   ]
  },
  {
   "cell_type": "code",
   "execution_count": null,
   "metadata": {},
   "outputs": [],
   "source": []
  }
 ],
 "metadata": {
  "kernelspec": {
   "display_name": "base",
   "language": "python",
   "name": "python3"
  },
  "language_info": {
   "codemirror_mode": {
    "name": "ipython",
    "version": 3
   },
   "file_extension": ".py",
   "mimetype": "text/x-python",
   "name": "python",
   "nbconvert_exporter": "python",
   "pygments_lexer": "ipython3",
   "version": "3.12.4"
  }
 },
 "nbformat": 4,
 "nbformat_minor": 2
}
